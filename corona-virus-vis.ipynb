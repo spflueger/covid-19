{
 "cells": [
  {
   "cell_type": "code",
   "execution_count": null,
   "metadata": {},
   "outputs": [],
   "source": [
    "import pandas as pd"
   ]
  },
  {
   "cell_type": "code",
   "execution_count": null,
   "metadata": {},
   "outputs": [],
   "source": [
    "df = pd.read_csv('COVID-19/csse_covid_19_data/csse_covid_19_time_series/time_series_19-covid-Confirmed.csv')"
   ]
  },
  {
   "cell_type": "code",
   "execution_count": null,
   "metadata": {},
   "outputs": [],
   "source": [
    "# sum up data by country (China and US data are given by regions/states)\n",
    "grouped_df = df.groupby('Country/Region').sum()\n",
    "grouped_df.insert(0, '1/21/20', 0)\n",
    "# cut off the first 25 days\n",
    "prepared_df = grouped_df.iloc[:, 26:]\n",
    "#prepared_df"
   ]
  },
  {
   "cell_type": "code",
   "execution_count": null,
   "metadata": {},
   "outputs": [],
   "source": [
    "new_infections_df = prepared_df.diff(axis=1)\n",
    "new_infections_df = new_infections_df.iloc[:,1:]"
   ]
  },
  {
   "cell_type": "code",
   "execution_count": null,
   "metadata": {},
   "outputs": [],
   "source": [
    "#plotdata = new_infections_df.loc[['Germany', 'Italy', 'South Korea']].T\n",
    "plotdata = new_infections_df.nlargest(10, columns=new_infections_df.columns[-1]).T\n",
    "plotdata.plot(logy=True, figsize=(18,10), lw=3, grid=True)"
   ]
  },
  {
   "cell_type": "code",
   "execution_count": 113,
   "metadata": {},
   "outputs": [],
   "source": [
    "N_total = 1e7\n",
    "N_HI = [0]\n",
    "N_I = [10]\n",
    "N_NI = [N_total-N_I[0]]\n",
    "\n",
    "average_human_social_factor = 2 # a person meets x more ppl in average, which he could infect\n",
    "average_infection_probability = 0.1 \n",
    "healing_rate = 1/14 # a person heals within 2 weeks in average\n",
    "\n",
    "for i in range(1,300):\n",
    "    average_contacts_to_non_infected = N_NI[i-1]/N_total*(average_human_social_factor * N_I[i-1])\n",
    "    new_infections = average_contacts_to_non_infected * average_infection_probability\n",
    "    N_I.append(N_I[i-1]*(1-healing_rate) + new_infections)\n",
    "    N_NI.append(N_NI[i-1] - new_infections)\n",
    "    N_HI.append(N_I[i-1]*healing_rate)"
   ]
  },
  {
   "cell_type": "code",
   "execution_count": null,
   "metadata": {},
   "outputs": [],
   "source": [
    "data = {\"day\": range(0,len(N_I)), \n",
    "        \"infected\": [x/N_total for x in N_I],\n",
    "        \"non-infected\": [x/N_total for x in N_NI]\n",
    "}"
   ]
  },
  {
   "cell_type": "code",
   "execution_count": null,
   "metadata": {},
   "outputs": [],
   "source": [
    "import matplotlib.pyplot as plt\n",
    "plt.plot(\"day\", \"infected\", \"non-infected\", data=data)"
   ]
  }
 ],
 "metadata": {
  "kernelspec": {
   "display_name": "Python 3",
   "language": "python",
   "name": "python3"
  },
  "language_info": {
   "codemirror_mode": {
    "name": "ipython",
    "version": 3
   },
   "file_extension": ".py",
   "mimetype": "text/x-python",
   "name": "python",
   "nbconvert_exporter": "python",
   "pygments_lexer": "ipython3",
   "version": "3.6.9"
  }
 },
 "nbformat": 4,
 "nbformat_minor": 4
}
